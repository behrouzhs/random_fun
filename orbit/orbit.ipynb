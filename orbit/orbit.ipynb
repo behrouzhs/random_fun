{
 "cells": [
  {
   "cell_type": "code",
   "execution_count": 10,
   "id": "a767e34f",
   "metadata": {},
   "outputs": [],
   "source": [
    "import math\n",
    "import time\n",
    "import numpy as np\n",
    "import matplotlib.pyplot as plt\n",
    "from IPython import display"
   ]
  },
  {
   "cell_type": "code",
   "execution_count": 79,
   "id": "a9c46662",
   "metadata": {},
   "outputs": [],
   "source": [
    "def _draw(n_vertex=12, n_neighbor=3, gap=0, start_vertex=None, end_vertex=None, color='b', lw=2):\n",
    "    vertices = [[np.cos(i * 2 * math.pi / n_vertex), np.sin(i * 2 * math.pi / n_vertex)] for i in range(n_vertex)]\n",
    "    plt.plot([vertices[i][0] for i in range(n_vertex)], [vertices[i][1] for i in range(n_vertex)], f'{color}o', markersize=2*lw)\n",
    "\n",
    "    edges = [[i, (i + 1) % n_vertex] for i in range(n_vertex)]\n",
    "    for edge in edges:\n",
    "        plt.plot([vertices[edge[0]][0], vertices[edge[1]][0]], [vertices[edge[0]][1], vertices[edge[1]][1]], f'{color}-', lw=lw)\n",
    "\n",
    "    start_vertex = 0 if start_vertex is None else start_vertex\n",
    "    end_vertex = n_vertex if end_vertex is None else end_vertex\n",
    "    for i in range(start_vertex, end_vertex):\n",
    "        for j in range(2 + gap, n_neighbor + gap + 2):\n",
    "            plt.plot([vertices[i%n_vertex][0], vertices[(i + j) % n_vertex][0]], [vertices[i%n_vertex][1], vertices[(i + j) % n_vertex][1]], f'{color}-', lw=lw)\n",
    "    plt.axis('equal')\n",
    "\n",
    "def draw(n_vertex=12, n_neighbor=3):\n",
    "    for span in range(3):\n",
    "        lst_gaps = list(range(max(3, n_vertex // 2 - n_neighbor)))\n",
    "        lst_gaps = lst_gaps + lst_gaps[::-1][1:-1]\n",
    "        for gap in lst_gaps:\n",
    "            for sv in range(n_vertex):\n",
    "                _draw(n_vertex, n_neighbor, gap, sv, sv+span+3+n_vertex//2, color='b', lw=2)\n",
    "                display.display(plt.gcf())\n",
    "                display.clear_output(wait=True)\n",
    "#                 time.sleep(0.05)\n",
    "                plt.clf()"
   ]
  },
  {
   "cell_type": "code",
   "execution_count": 80,
   "id": "9cc7d0bd",
   "metadata": {},
   "outputs": [
    {
     "data": {
      "text/plain": [
       "<Figure size 640x480 with 0 Axes>"
      ]
     },
     "metadata": {},
     "output_type": "display_data"
    }
   ],
   "source": [
    "draw(24, 2)"
   ]
  }
 ],
 "metadata": {
  "kernelspec": {
   "display_name": "Python 3 (ipykernel)",
   "language": "python",
   "name": "python3"
  },
  "language_info": {
   "codemirror_mode": {
    "name": "ipython",
    "version": 3
   },
   "file_extension": ".py",
   "mimetype": "text/x-python",
   "name": "python",
   "nbconvert_exporter": "python",
   "pygments_lexer": "ipython3",
   "version": "3.11.5"
  }
 },
 "nbformat": 4,
 "nbformat_minor": 5
}
